{
  "nbformat": 4,
  "nbformat_minor": 0,
  "metadata": {
    "colab": {
      "private_outputs": true,
      "provenance": [],
      "gpuType": "T4"
    },
    "kernelspec": {
      "name": "python3",
      "display_name": "Python 3"
    },
    "language_info": {
      "name": "python"
    },
    "accelerator": "GPU"
  },
  "cells": [
    {
      "cell_type": "markdown",
      "source": [
        "# **KDDCup 99 Using ANN (Numerical & Categorical Data)**"
      ],
      "metadata": {
        "id": "fbdEaPgPgGW9"
      }
    },
    {
      "cell_type": "markdown",
      "source": [
        "## **Import Essential Libraries**"
      ],
      "metadata": {
        "id": "Ydp8njbvgas0"
      }
    },
    {
      "cell_type": "code",
      "execution_count": null,
      "metadata": {
        "id": "7uyoememgATA"
      },
      "outputs": [],
      "source": [
        "import numpy as np\n",
        "from sklearn.neural_network import MLPClassifier\n",
        "from sklearn.metrics import mean_squared_error, mean_absolute_error, accuracy_score, r2_score, precision_score, recall_score, f1_score, confusion_matrix\n",
        "from sklearn.model_selection import train_test_split\n",
        "import joblib\n",
        "import matplotlib.pyplot as plt\n",
        "import pandas as pd\n",
        "from sklearn.preprocessing import LabelEncoder, StandardScaler, MinMaxScaler\n",
        "from sklearn.model_selection import train_test_split"
      ]
    },
    {
      "cell_type": "markdown",
      "source": [
        "## **Load The Dataset**"
      ],
      "metadata": {
        "id": "-iyq44ImgaDb"
      }
    },
    {
      "cell_type": "code",
      "source": [
        "# Load the dataset\n",
        "df = pd.read_csv('kddcup-99.csv')\n",
        "df.head()"
      ],
      "metadata": {
        "id": "30oQ0w37gOBO"
      },
      "execution_count": null,
      "outputs": []
    },
    {
      "cell_type": "code",
      "source": [
        "df['outcome']"
      ],
      "metadata": {
        "id": "5INm0Gj5qilt"
      },
      "execution_count": null,
      "outputs": []
    },
    {
      "cell_type": "markdown",
      "source": [
        "## **Get Unique Features from Protocol, Service and Flag**"
      ],
      "metadata": {
        "id": "aOge8IlhgnWj"
      }
    },
    {
      "cell_type": "code",
      "source": [
        "df['flag'].unique()"
      ],
      "metadata": {
        "id": "qexiiONKg7rg"
      },
      "execution_count": null,
      "outputs": []
    },
    {
      "cell_type": "code",
      "source": [
        "df['protocol_type'].unique()"
      ],
      "metadata": {
        "id": "mIFWRxOzhDQI"
      },
      "execution_count": null,
      "outputs": []
    },
    {
      "cell_type": "code",
      "source": [
        "df['service'].unique()"
      ],
      "metadata": {
        "id": "DLEOFCMyhJrb"
      },
      "execution_count": null,
      "outputs": []
    },
    {
      "cell_type": "markdown",
      "source": [
        "## **Label Encoding the dataset**"
      ],
      "metadata": {
        "id": "trUyrKYOiU-r"
      }
    },
    {
      "cell_type": "code",
      "source": [
        "# Select categorical features\n",
        "categorical_features = [\"protocol_type\", \"service\", \"flag\"]\n",
        "\n",
        "# Initialize label encoders\n",
        "label_encoders = {}\n",
        "for feature in categorical_features:\n",
        "    le = LabelEncoder()\n",
        "    df[feature] = le.fit_transform(df[feature])\n",
        "    label_encoders[feature] = le"
      ],
      "metadata": {
        "id": "AA2Ph-SNhSMA"
      },
      "execution_count": null,
      "outputs": []
    },
    {
      "cell_type": "code",
      "source": [
        "label_encoders_filename = 'label_encoders.pkl'\n",
        "joblib.dump(label_encoders, label_encoders_filename)"
      ],
      "metadata": {
        "id": "lfW1_Koooz0M"
      },
      "execution_count": null,
      "outputs": []
    },
    {
      "cell_type": "markdown",
      "source": [
        "## **Seperate Features and Labels**"
      ],
      "metadata": {
        "id": "zwCmw66eigak"
      }
    },
    {
      "cell_type": "code",
      "source": [
        "# Split the data into features and target\n",
        "X = df.drop('outcome', axis=1)\n",
        "y = df['outcome']"
      ],
      "metadata": {
        "id": "ZMxsNqZUiYOW"
      },
      "execution_count": null,
      "outputs": []
    },
    {
      "cell_type": "markdown",
      "source": [
        "## **Scale The Numerical value**"
      ],
      "metadata": {
        "id": "UHZlmEFxiuGZ"
      }
    },
    {
      "cell_type": "code",
      "source": [
        "# Scale the numerical variables\n",
        "scaler = MinMaxScaler()\n",
        "X[X.columns] = scaler.fit_transform(X)\n",
        "\n",
        "# Split the data into training and testing sets\n",
        "X_train, X_test, y_train, y_test = train_test_split(X, y, test_size=0.25, random_state=100, shuffle=True)"
      ],
      "metadata": {
        "id": "JSXgzpnkiong"
      },
      "execution_count": null,
      "outputs": []
    },
    {
      "cell_type": "markdown",
      "source": [
        "## **Add ANN MLP Classifier**"
      ],
      "metadata": {
        "id": "twOrV60dix_Q"
      }
    },
    {
      "cell_type": "code",
      "source": [
        "from sklearn.neural_network import MLPClassifier\n",
        "\n",
        "# Define the ANN model\n",
        "model = MLPClassifier(hidden_layer_sizes=(64, 32), activation='relu', solver='adam', random_state=42)"
      ],
      "metadata": {
        "id": "kvxwrLWkir-L"
      },
      "execution_count": null,
      "outputs": []
    },
    {
      "cell_type": "markdown",
      "source": [
        "## **Train The Model**"
      ],
      "metadata": {
        "id": "OiUnm4xKi3xr"
      }
    },
    {
      "cell_type": "code",
      "source": [
        "# Train the model\n",
        "model.fit(X_train, y_train)"
      ],
      "metadata": {
        "id": "SYYseSXNi2YF"
      },
      "execution_count": null,
      "outputs": []
    },
    {
      "cell_type": "markdown",
      "source": [
        "## **Save the Trained Model**"
      ],
      "metadata": {
        "id": "is4BaDk-i-E6"
      }
    },
    {
      "cell_type": "code",
      "source": [
        "# Save the trained model to a file\n",
        "model_filename = 'kddcup99ann.pkl'\n",
        "joblib.dump(model, model_filename)"
      ],
      "metadata": {
        "id": "M1fmxK3ci66S"
      },
      "execution_count": null,
      "outputs": []
    },
    {
      "cell_type": "code",
      "source": [
        "df['outcome'].unique()"
      ],
      "metadata": {
        "id": "v3-JwcDDlFUE"
      },
      "execution_count": null,
      "outputs": []
    },
    {
      "cell_type": "code",
      "source": [],
      "metadata": {
        "id": "DC0Ge4ELoFz2"
      },
      "execution_count": null,
      "outputs": []
    }
  ]
}